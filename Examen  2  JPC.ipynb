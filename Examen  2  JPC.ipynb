{
 "cells": [
  {
   "cell_type": "markdown",
   "id": "8d73aa3b",
   "metadata": {},
   "source": [
    "<center><h1 style=\"color:orange\"> EXAMEN PARCIAL 2 PYTHON\n",
    "    \n",
    " <img src=\"https://www.ikiam.edu.ec/img/logo-ikiam-grey.png\" width=400 height=300 />\n",
    "\n",
    "# <center><h1 style=\"color:gray\">GBI6G1 - BIOINFORMÁTICA</h1></center>\n",
    "\n",
    " **Cerda Grefa, Jean-Pierre**\n",
    "    \n",
    " **03-08-2022**\n",
    "    \n",
    "\n",
    "| CARACTERISTICAS DEL EQUIPO | | |\n",
    "| --- | --- | --- |\n",
    "|Nombre del dispositivo                DESKTOP-ARATL58 |  |  |\n",
    "|Procesador                            Intel(R) Pentium(R) CPU N3700 @ 1.60GHz 1.60 GHz|  |  |   \n",
    "|Identificador de dispositivo          863752D5-95CC-4316-AF89-6EDA541E1338|  |  | \n",
    "|Id. del producto                      00330-80000-00000-AA932|  |  |     \n",
    "|Tipo de sistema Sistema operativo de 64 bits, procesador basado en x64|  |  | \n",
    "|Lápiz y entrada táctil La entrada táctil o manuscrita no está disponible para esta pantalla|  |  | \n",
    "    "
   ]
  },
  {
   "cell_type": "markdown",
   "id": "6463d842",
   "metadata": {},
   "source": [
    "# Ejercicio 1\n"
   ]
  },
  {
   "cell_type": "code",
   "execution_count": 31,
   "id": "d6f0f6bc",
   "metadata": {},
   "outputs": [],
   "source": [
    "import miningscience as msc"
   ]
  },
  {
   "cell_type": "code",
   "execution_count": 32,
   "id": "1b4444ac",
   "metadata": {},
   "outputs": [
    {
     "name": "stdout",
     "output_type": "stream",
     "text": [
      "Help on function download_pubmed in module miningscience:\n",
      "\n",
      "download_pubmed(keyword)\n",
      "    El siguiente comando permite buscar articulos en pubmed mediante palabras claves\n",
      "\n"
     ]
    }
   ],
   "source": [
    "\n",
    "help (msc.download_pubmed)\n"
   ]
  },
  {
   "cell_type": "markdown",
   "id": "654d3fdc",
   "metadata": {},
   "source": [
    "# Ejercicio 2"
   ]
  },
  {
   "cell_type": "code",
   "execution_count": 33,
   "id": "603dfc06",
   "metadata": {},
   "outputs": [
    {
     "data": {
      "text/plain": [
       "'C:\\\\Users\\\\HP\\\\Documents\\\\GitHub\\\\gbi6g01_2022l'"
      ]
     },
     "execution_count": 33,
     "metadata": {},
     "output_type": "execute_result"
    }
   ],
   "source": [
    "pwd\n"
   ]
  },
  {
   "cell_type": "code",
   "execution_count": 30,
   "id": "e1d467f9",
   "metadata": {},
   "outputs": [
    {
     "name": "stdout",
     "output_type": "stream",
     "text": [
      "El número artículos para KEYWORD es:  3592\n"
     ]
    },
    {
     "ename": "FileNotFoundError",
     "evalue": "[Errno 2] No such file or directory: 'Data/chicungunya.txt'",
     "output_type": "error",
     "traceback": [
      "\u001b[1;31m---------------------------------------------------------------------------\u001b[0m",
      "\u001b[1;31mFileNotFoundError\u001b[0m                         Traceback (most recent call last)",
      "\u001b[1;32m~\\AppData\\Local\\Temp/ipykernel_9324/79018617.py\u001b[0m in \u001b[0;36m<module>\u001b[1;34m\u001b[0m\n\u001b[0;32m      4\u001b[0m \u001b[0mb\u001b[0m \u001b[1;33m=\u001b[0m \u001b[0mlen\u001b[0m \u001b[1;33m(\u001b[0m\u001b[0ma\u001b[0m\u001b[1;33m)\u001b[0m\u001b[1;33m\u001b[0m\u001b[1;33m\u001b[0m\u001b[0m\n\u001b[0;32m      5\u001b[0m \u001b[0mprint\u001b[0m \u001b[1;33m(\u001b[0m\u001b[1;34m'El número artículos para KEYWORD es: '\u001b[0m\u001b[1;33m,\u001b[0m\u001b[0mb\u001b[0m\u001b[1;33m)\u001b[0m\u001b[1;33m\u001b[0m\u001b[1;33m\u001b[0m\u001b[0m\n\u001b[1;32m----> 6\u001b[1;33m \u001b[1;32mwith\u001b[0m \u001b[0mopen\u001b[0m \u001b[1;33m(\u001b[0m\u001b[1;34m\"Data/chicungunya.txt\"\u001b[0m\u001b[1;33m,\u001b[0m\u001b[1;34m\"w\"\u001b[0m\u001b[1;33m)\u001b[0m \u001b[1;32mas\u001b[0m \u001b[0mtxt\u001b[0m\u001b[1;33m:\u001b[0m\u001b[1;33m\u001b[0m\u001b[1;33m\u001b[0m\u001b[0m\n\u001b[0m\u001b[0;32m      7\u001b[0m     \u001b[0mtxt\u001b[0m\u001b[1;33m.\u001b[0m\u001b[0mwrite\u001b[0m\u001b[1;33m(\u001b[0m\u001b[0ma\u001b[0m\u001b[1;33m)\u001b[0m\u001b[1;33m\u001b[0m\u001b[1;33m\u001b[0m\u001b[0m\n",
      "\u001b[1;31mFileNotFoundError\u001b[0m: [Errno 2] No such file or directory: 'Data/chicungunya.txt'"
     ]
    }
   ],
   "source": [
    "\n",
    "\n",
    "import os\n",
    "import re\n",
    "a = msc.download_pubmed(\"chicungunya\")\n",
    "b = len (a)\n",
    "print ('El número artículos para KEYWORD es: ',b)\n",
    "with open (\"Data/chicungunya.txt\",\"w\") as txt:\n",
    "    txt.write(a)"
   ]
  },
  {
   "cell_type": "code",
   "execution_count": 16,
   "id": "667641ac",
   "metadata": {},
   "outputs": [
    {
     "data": {
      "text/plain": [
       "'C:\\\\Users\\\\HP\\\\Documents\\\\GitHub\\\\gbi6g01_2022l'"
      ]
     },
     "execution_count": 16,
     "metadata": {},
     "output_type": "execute_result"
    }
   ],
   "source": [
    "pwd"
   ]
  },
  {
   "cell_type": "code",
   "execution_count": 20,
   "id": "fb6b9c03",
   "metadata": {},
   "outputs": [
    {
     "ename": "SyntaxError",
     "evalue": "EOL while scanning string literal (Temp/ipykernel_17948/3966207461.py, line 1)",
     "output_type": "error",
     "traceback": [
      "\u001b[1;36m  File \u001b[1;32m\"C:\\Users\\HP\\AppData\\Local\\Temp/ipykernel_17948/3966207461.py\"\u001b[1;36m, line \u001b[1;32m1\u001b[0m\n\u001b[1;33m    with open(\"2021I_GBI6_2.7_Biopython/nuccore_result.txt) as f:\u001b[0m\n\u001b[1;37m                                                                 ^\u001b[0m\n\u001b[1;31mSyntaxError\u001b[0m\u001b[1;31m:\u001b[0m EOL while scanning string literal\n"
     ]
    }
   ],
   "source": [
    "with open(\"2021I_GBI6_2.7_Biopython/nuccore_result.txt) as f:\n",
    "    my_text = f.read()"
   ]
  },
  {
   "cell_type": "markdown",
   "id": "c1ecb318",
   "metadata": {},
   "source": [
    "#  Ejercicio 3"
   ]
  },
  {
   "cell_type": "markdown",
   "id": "08802caf",
   "metadata": {},
   "source": [
    "#  Ejercicio 4"
   ]
  },
  {
   "cell_type": "markdown",
   "id": "7012316a",
   "metadata": {},
   "source": [
    "# Ejercicio 5"
   ]
  },
  {
   "cell_type": "code",
   "execution_count": 32,
   "id": "94e8e4f3",
   "metadata": {},
   "outputs": [],
   "source": [
    "from Bio.Align.Applications import ClustalwCommandline\n",
    "import os"
   ]
  },
  {
   "cell_type": "code",
   "execution_count": 37,
   "id": "c6ab060e",
   "metadata": {},
   "outputs": [
    {
     "ename": "SyntaxError",
     "evalue": "unmatched ')' (Temp/ipykernel_17948/830946995.py, line 2)",
     "output_type": "error",
     "traceback": [
      "\u001b[1;36m  File \u001b[1;32m\"C:\\Users\\HP\\AppData\\Local\\Temp/ipykernel_17948/830946995.py\"\u001b[1;36m, line \u001b[1;32m2\u001b[0m\n\u001b[1;33m    clustalw_exe = r\"C:/Users/HP/Documents/GitHub/gbi6g01_2022l/ClustalW2/clustalw2.exe\")\u001b[0m\n\u001b[1;37m                                                                                        ^\u001b[0m\n\u001b[1;31mSyntaxError\u001b[0m\u001b[1;31m:\u001b[0m unmatched ')'\n"
     ]
    }
   ],
   "source": [
    "# cargar data multiple y crear alineamientos\n",
    "clustalw_exe = r\"C:/Users/HP/Documents/GitHub/gbi6g01_2022l/ClustalW2/clustalw2.exe\")\n",
    "clustalw_cline = ClustalwCommandline(clustalw_exe, infile = \"2021I_GBI6_2.7_Biopython/nuccore_result.txt\"\n",
    "assert os.path.isfile(clustalw_exe), \"Clustal_W executable is missing or not found\"\n",
    "stdout, stderr = clustalw_cline()\n",
    "print(clustalw_cline)\n"
   ]
  },
  {
   "cell_type": "code",
   "execution_count": 17,
   "id": "330d66b9",
   "metadata": {},
   "outputs": [
    {
     "data": {
      "text/plain": [
       "'C:\\\\Users\\\\HP\\\\Documents\\\\GitHub\\\\gbi6g01_2022l'"
      ]
     },
     "execution_count": 17,
     "metadata": {},
     "output_type": "execute_result"
    }
   ],
   "source": [
    "pwd"
   ]
  },
  {
   "cell_type": "code",
   "execution_count": 19,
   "id": "05a4edee",
   "metadata": {},
   "outputs": [
    {
     "name": "stdout",
     "output_type": "stream",
     "text": [
      " , Contig0001\n",
      " |\n",
      " | sequence1\n",
      " |\n",
      " | 489\n",
      " |\n",
      " |__ assembly\n",
      " |\n",
      " | UPC14\n",
      " |\n",
      " | 813\n",
      " |\n",
      " |______________ assembly\n",
      " |\n",
      " | PSV5\n",
      " |\n",
      " | 233\n",
      " |\n",
      " |______________ M-1\n",
      " |\n",
      " | genome4\n",
      " |\n",
      " | 589\n",
      " |\n",
      " |______ assembly\n",
      " |\n",
      " | Tan6114\n",
      " |\n",
      " | 963\n",
      " |\n",
      " |______________ AM1\n",
      " |\n",
      " | genome5\n",
      " |\n",
      " | 511\n",
      " |\n",
      " | chromosome\n",
      " |\n",
      " | sequence5\n",
      " |\n",
      " | 888\n",
      " |\n",
      " | assembly\n",
      " |\n",
      " | chromosome\n",
      " |\n",
      " | 722\n",
      " |\n",
      "_|_______________ DNA\n",
      " |\n",
      " | genome3\n",
      " |\n",
      " | 544\n",
      " |\n",
      " |___ 191\n",
      " |\n",
      " | I6\n",
      " |\n",
      " | 012\n",
      " |\n",
      " |______________________________________________________________ 454\n",
      " |\n",
      " | genome2\n",
      " |\n",
      " | 755\n",
      " |\n",
      " |______________________ genome\n",
      " |\n",
      " | 1054762\n",
      " |\n",
      " | 619\n",
      " |\n",
      " |___________ genome2\n",
      " |\n",
      " | 566\n",
      " |\n",
      " |________________ cDNA\n",
      " |\n",
      " | library\n",
      " |\n",
      " | SUBUNIT\n",
      " |\n",
      " | FORM\n",
      " |\n",
      " , 1.2.4.1\n",
      " |\n",
      " | I\n",
      " |\n",
      " | cds\n",
      " |\n",
      " | subunit\n",
      " |\n",
      " | form\n",
      " |\n",
      " , 1.2.4.1\n",
      " |\n",
      " | GI\n",
      "\n"
     ]
    }
   ],
   "source": [
    "# Generar Dendogram (Tree)\n",
    "from Bio import Phylo\n",
    "tree = Phylo.read(\"2021I_GBI6_2.7_Biopython/nuccore_result.txt \", \"newick\")\n",
    "Phylo.draw_ascii(tree)"
   ]
  },
  {
   "cell_type": "code",
   "execution_count": 31,
   "id": "ac6142ac",
   "metadata": {},
   "outputs": [
    {
     "ename": "NameError",
     "evalue": "name 'AlignIO' is not defined",
     "output_type": "error",
     "traceback": [
      "\u001b[1;31m---------------------------------------------------------------------------\u001b[0m",
      "\u001b[1;31mNameError\u001b[0m                                 Traceback (most recent call last)",
      "\u001b[1;32m~\\AppData\\Local\\Temp/ipykernel_17948/1395497639.py\u001b[0m in \u001b[0;36m<module>\u001b[1;34m\u001b[0m\n\u001b[0;32m      1\u001b[0m \u001b[1;31m# Leer alineamiento\u001b[0m\u001b[1;33m\u001b[0m\u001b[1;33m\u001b[0m\u001b[0m\n\u001b[1;32m----> 2\u001b[1;33m \u001b[0mClustalAlign\u001b[0m \u001b[1;33m=\u001b[0m \u001b[0mAlignIO\u001b[0m\u001b[1;33m.\u001b[0m\u001b[0mread\u001b[0m\u001b[1;33m(\u001b[0m\u001b[1;34m\"2021I_GBI6_2.7_Biopython/nuccore_result.txt\"\u001b[0m\u001b[1;33m,\u001b[0m \u001b[1;34m\"clustal\"\u001b[0m\u001b[1;33m)\u001b[0m\u001b[1;33m\u001b[0m\u001b[1;33m\u001b[0m\u001b[0m\n\u001b[0m\u001b[0;32m      3\u001b[0m \u001b[0mprint\u001b[0m\u001b[1;33m(\u001b[0m\u001b[0mClustalAlign\u001b[0m\u001b[1;33m)\u001b[0m\u001b[1;33m\u001b[0m\u001b[1;33m\u001b[0m\u001b[0m\n",
      "\u001b[1;31mNameError\u001b[0m: name 'AlignIO' is not defined"
     ]
    }
   ],
   "source": [
    "# Leer alineamiento\n",
    "ClustalAlign = AlignIO.read(\"2021I_GBI6_2.7_Biopython/nuccore_result.txt\", \"clustal\")\n",
    "print(ClustalAlign)"
   ]
  },
  {
   "cell_type": "code",
   "execution_count": 29,
   "id": "fe9f0e91",
   "metadata": {},
   "outputs": [
    {
     "ename": "NameError",
     "evalue": "name 'AlignIO' is not defined",
     "output_type": "error",
     "traceback": [
      "\u001b[1;31m---------------------------------------------------------------------------\u001b[0m",
      "\u001b[1;31mNameError\u001b[0m                                 Traceback (most recent call last)",
      "\u001b[1;32m~\\AppData\\Local\\Temp/ipykernel_17948/2302304919.py\u001b[0m in \u001b[0;36m<module>\u001b[1;34m\u001b[0m\n\u001b[0;32m      1\u001b[0m \u001b[1;31m# cargar alineamiento\u001b[0m\u001b[1;33m\u001b[0m\u001b[1;33m\u001b[0m\u001b[0m\n\u001b[0;32m      2\u001b[0m \u001b[1;32mwith\u001b[0m \u001b[0mopen\u001b[0m\u001b[1;33m(\u001b[0m\u001b[1;34m\"2021I_GBI6_2.7_Biopython/nuccore_result.txt\"\u001b[0m\u001b[1;33m,\u001b[0m\u001b[1;34m\"r\"\u001b[0m\u001b[1;33m)\u001b[0m \u001b[1;32mas\u001b[0m \u001b[0maln\u001b[0m\u001b[1;33m:\u001b[0m\u001b[1;33m\u001b[0m\u001b[1;33m\u001b[0m\u001b[0m\n\u001b[1;32m----> 3\u001b[1;33m     \u001b[0malignment\u001b[0m \u001b[1;33m=\u001b[0m \u001b[0mAlignIO\u001b[0m\u001b[1;33m.\u001b[0m\u001b[0mread\u001b[0m\u001b[1;33m(\u001b[0m\u001b[0maln\u001b[0m\u001b[1;33m,\u001b[0m\u001b[1;34m\"clustal\"\u001b[0m\u001b[1;33m)\u001b[0m\u001b[1;33m\u001b[0m\u001b[1;33m\u001b[0m\u001b[0m\n\u001b[0m\u001b[0;32m      4\u001b[0m \u001b[0mprint\u001b[0m\u001b[1;33m(\u001b[0m\u001b[0mtype\u001b[0m\u001b[1;33m(\u001b[0m\u001b[0malignment\u001b[0m\u001b[1;33m)\u001b[0m\u001b[1;33m)\u001b[0m\u001b[1;33m\u001b[0m\u001b[1;33m\u001b[0m\u001b[0m\n",
      "\u001b[1;31mNameError\u001b[0m: name 'AlignIO' is not defined"
     ]
    }
   ],
   "source": [
    "# cargar alineamiento \n",
    "with open(\"2021I_GBI6_2.7_Biopython/nuccore_result.txt\",\"r\") as aln: \n",
    "    alignment = AlignIO.read(aln,\"clustal\")\n",
    "print(type(alignment))"
   ]
  },
  {
   "cell_type": "markdown",
   "id": "3db9b73d",
   "metadata": {},
   "source": [
    "# Ejercicio 6"
   ]
  },
  {
   "cell_type": "code",
   "execution_count": null,
   "id": "5ea1c895",
   "metadata": {},
   "outputs": [],
   "source": []
  },
  {
   "cell_type": "code",
   "execution_count": null,
   "id": "3eafb6f2",
   "metadata": {},
   "outputs": [],
   "source": []
  }
 ],
 "metadata": {
  "kernelspec": {
   "display_name": "Python 3 (ipykernel)",
   "language": "python",
   "name": "python3"
  },
  "language_info": {
   "codemirror_mode": {
    "name": "ipython",
    "version": 3
   },
   "file_extension": ".py",
   "mimetype": "text/x-python",
   "name": "python",
   "nbconvert_exporter": "python",
   "pygments_lexer": "ipython3",
   "version": "3.9.7"
  }
 },
 "nbformat": 4,
 "nbformat_minor": 5
}
