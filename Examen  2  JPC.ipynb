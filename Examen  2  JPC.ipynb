{
 "cells": [
  {
   "cell_type": "markdown",
   "id": "8d73aa3b",
   "metadata": {},
   "source": [
    "<center><h1 style=\"color:orange\"> EXAMEN PARCIAL 2 PYTHON\n",
    "    \n",
    " <img src=\"https://www.ikiam.edu.ec/img/logo-ikiam-grey.png\" width=400 height=300 />\n",
    "\n",
    "# <center><h1 style=\"color:gray\">GBI6G1 - BIOINFORMÁTICA</h1></center>\n",
    "\n",
    " **Cerda Grefa, Jean-Pierre**\n",
    "    \n",
    " **03-08-2022**\n",
    "    \n",
    "\n",
    "| CARACTERISTICAS DEL EQUIPO | | |\n",
    "| --- | --- | --- |\n",
    "|Nombre del dispositivo                DESKTOP-ARATL58 |  |  |\n",
    "|Procesador                            Intel(R) Pentium(R) CPU N3700 @ 1.60GHz 1.60 GHz|  |  |   \n",
    "|Identificador de dispositivo          863752D5-95CC-4316-AF89-6EDA541E1338|  |  | \n",
    "|Id. del producto                      00330-80000-00000-AA932|  |  |     \n",
    "|Tipo de sistema Sistema operativo de 64 bits, procesador basado en x64|  |  | \n",
    "|Lápiz y entrada táctil La entrada táctil o manuscrita no está disponible para esta pantalla|  |  | \n",
    "    "
   ]
  },
  {
   "cell_type": "markdown",
   "id": "6463d842",
   "metadata": {},
   "source": [
    "# Ejercicio 1\n"
   ]
  },
  {
   "cell_type": "code",
   "execution_count": 2,
   "id": "d6f0f6bc",
   "metadata": {},
   "outputs": [],
   "source": [
    "from Bio import Entrez\n",
    "import re\n",
    "import csv\n",
    "import miningscience as msc"
   ]
  },
  {
   "cell_type": "code",
   "execution_count": 3,
   "id": "1b4444ac",
   "metadata": {},
   "outputs": [
    {
     "name": "stdout",
     "output_type": "stream",
     "text": [
      "Help on function download_pubmed in module miningscience:\n",
      "\n",
      "download_pubmed(keyword)\n",
      "    El siguiente comando permite buscar articulos en pubmed mediante palabras claves\n",
      "\n"
     ]
    }
   ],
   "source": [
    "\n",
    "help (msc.download_pubmed)\n"
   ]
  },
  {
   "cell_type": "markdown",
   "id": "654d3fdc",
   "metadata": {},
   "source": [
    "# Ejercicio 2"
   ]
  },
  {
   "cell_type": "code",
   "execution_count": 4,
   "id": "667641ac",
   "metadata": {},
   "outputs": [
    {
     "data": {
      "text/plain": [
       "'C:\\\\Users\\\\HP\\\\Documents\\\\GitHub\\\\gbi6g01_2022l'"
      ]
     },
     "execution_count": 4,
     "metadata": {},
     "output_type": "execute_result"
    }
   ],
   "source": [
    "pwd"
   ]
  },
  {
   "cell_type": "code",
   "execution_count": 5,
   "id": "fdd1ece3",
   "metadata": {},
   "outputs": [
    {
     "name": "stdout",
     "output_type": "stream",
     "text": [
      "El número artículos para KEYWORD es:  2316722\n"
     ]
    },
    {
     "ename": "FileNotFoundError",
     "evalue": "[Errno 2] No such file or directory: '2021I_GBI6_2.7_Biopython/drogas.txtw'",
     "output_type": "error",
     "traceback": [
      "\u001b[1;31m---------------------------------------------------------------------------\u001b[0m",
      "\u001b[1;31mFileNotFoundError\u001b[0m                         Traceback (most recent call last)",
      "\u001b[1;32m~\\AppData\\Local\\Temp/ipykernel_8900/4114111035.py\u001b[0m in \u001b[0;36m<module>\u001b[1;34m\u001b[0m\n\u001b[0;32m      4\u001b[0m \u001b[0mb\u001b[0m \u001b[1;33m=\u001b[0m \u001b[0mlen\u001b[0m \u001b[1;33m(\u001b[0m\u001b[0ma\u001b[0m\u001b[1;33m)\u001b[0m\u001b[1;33m\u001b[0m\u001b[1;33m\u001b[0m\u001b[0m\n\u001b[0;32m      5\u001b[0m \u001b[0mprint\u001b[0m \u001b[1;33m(\u001b[0m\u001b[1;34m'El número artículos para KEYWORD es: '\u001b[0m\u001b[1;33m,\u001b[0m\u001b[0mb\u001b[0m\u001b[1;33m)\u001b[0m\u001b[1;33m\u001b[0m\u001b[1;33m\u001b[0m\u001b[0m\n\u001b[1;32m----> 6\u001b[1;33m \u001b[1;32mwith\u001b[0m \u001b[0mopen\u001b[0m \u001b[1;33m(\u001b[0m\u001b[1;34m\"2021I_GBI6_2.7_Biopython/drogas.txtw\"\u001b[0m\u001b[1;33m)\u001b[0m \u001b[1;32mas\u001b[0m \u001b[0mtxt\u001b[0m\u001b[1;33m:\u001b[0m\u001b[1;33m\u001b[0m\u001b[1;33m\u001b[0m\u001b[0m\n\u001b[0m\u001b[0;32m      7\u001b[0m     \u001b[0mtxt\u001b[0m\u001b[1;33m.\u001b[0m\u001b[0mwrite\u001b[0m\u001b[1;33m(\u001b[0m\u001b[0ma\u001b[0m\u001b[1;33m)\u001b[0m\u001b[1;33m\u001b[0m\u001b[1;33m\u001b[0m\u001b[0m\n",
      "\u001b[1;31mFileNotFoundError\u001b[0m: [Errno 2] No such file or directory: '2021I_GBI6_2.7_Biopython/drogas.txtw'"
     ]
    }
   ],
   "source": [
    "import os\n",
    "import re\n",
    "a = msc.download_pubmed(\"drogas\")\n",
    "b = len (a)\n",
    "print ('El número artículos para KEYWORD es: ',b)\n",
    "with open (\"2021I_GBI6_2.7_Biopython/drogas.txtw\") as txt:\n",
    "    txt.write(a)"
   ]
  },
  {
   "cell_type": "code",
   "execution_count": null,
   "id": "e29587b1",
   "metadata": {},
   "outputs": [],
   "source": []
  },
  {
   "cell_type": "markdown",
   "id": "c1ecb318",
   "metadata": {},
   "source": [
    "#  Ejercicio 3"
   ]
  },
  {
   "cell_type": "code",
   "execution_count": 10,
   "id": "378e0fc6",
   "metadata": {},
   "outputs": [
    {
     "data": {
      "image/png": "[encoded data removed]",
      "text/plain": [
       "<Figure size 432x288 with 1 Axes>"
      ]
     },
     "metadata": {},
     "output_type": "display_data"
    }
   ],
   "source": [
    "import matplotlib.pyplot as plt\n",
    "import numpy as np\n",
    "y = np.array([33600413,33733807,35926066])\n",
    "\n",
    "plt.pie(y)\n",
    "plt.show()"
   ]
  },
  {
   "cell_type": "markdown",
   "id": "b4ef9609",
   "metadata": {},
   "source": [
    "#  Ejercicio 4\n"
   ]
  },
  {
   "cell_type": "markdown",
   "id": "7012316a",
   "metadata": {},
   "source": [
    "# Ejercicio 5"
   ]
  },
  {
   "cell_type": "code",
   "execution_count": 6,
   "id": "fd08e77e",
   "metadata": {},
   "outputs": [],
   "source": [
    "from Bio.Align.Applications import ClustalwCommandline\n",
    "import os\n"
   ]
  },
  {
   "cell_type": "code",
   "execution_count": 7,
   "id": "e5651ad8",
   "metadata": {},
   "outputs": [
    {
     "data": {
      "text/plain": [
       "'C:\\\\Users\\\\HP\\\\Documents\\\\GitHub\\\\gbi6g01_2022l'"
      ]
     },
     "execution_count": 7,
     "metadata": {},
     "output_type": "execute_result"
    }
   ],
   "source": [
    "pwd\n"
   ]
  },
  {
   "cell_type": "code",
   "execution_count": 8,
   "id": "22a32744",
   "metadata": {},
   "outputs": [
    {
     "ename": "ApplicationError",
     "evalue": "Non-zero return code 3 from 'C:/Users/HP/Documents/GitHub/gbi6g01_2022l/ClustalW2/clustalw2.exe -infile=\"2021I_GBI6_2.7_Biopython/sequence (4).txt\"'",
     "output_type": "error",
     "traceback": [
      "\u001b[1;31m---------------------------------------------------------------------------\u001b[0m",
      "\u001b[1;31mApplicationError\u001b[0m                          Traceback (most recent call last)",
      "\u001b[1;32m~\\AppData\\Local\\Temp/ipykernel_8900/2022553866.py\u001b[0m in \u001b[0;36m<module>\u001b[1;34m\u001b[0m\n\u001b[0;32m      2\u001b[0m \u001b[0mclustalw_cline\u001b[0m \u001b[1;33m=\u001b[0m \u001b[0mClustalwCommandline\u001b[0m\u001b[1;33m(\u001b[0m\u001b[0mclustalw_exe\u001b[0m\u001b[1;33m,\u001b[0m \u001b[0minfile\u001b[0m \u001b[1;33m=\u001b[0m \u001b[1;34m\"2021I_GBI6_2.7_Biopython/sequence (4).txt\"\u001b[0m\u001b[1;33m)\u001b[0m\u001b[1;33m\u001b[0m\u001b[1;33m\u001b[0m\u001b[0m\n\u001b[0;32m      3\u001b[0m \u001b[1;32massert\u001b[0m \u001b[0mos\u001b[0m\u001b[1;33m.\u001b[0m\u001b[0mpath\u001b[0m\u001b[1;33m.\u001b[0m\u001b[0misfile\u001b[0m\u001b[1;33m(\u001b[0m\u001b[0mclustalw_exe\u001b[0m\u001b[1;33m)\u001b[0m\u001b[1;33m,\u001b[0m \u001b[1;34m\"Clustal_W executable is missing or not found\"\u001b[0m\u001b[1;33m\u001b[0m\u001b[1;33m\u001b[0m\u001b[0m\n\u001b[1;32m----> 4\u001b[1;33m \u001b[0mstdout\u001b[0m\u001b[1;33m,\u001b[0m \u001b[0mstderr\u001b[0m \u001b[1;33m=\u001b[0m \u001b[0mclustalw_cline\u001b[0m\u001b[1;33m(\u001b[0m\u001b[1;33m)\u001b[0m\u001b[1;33m\u001b[0m\u001b[1;33m\u001b[0m\u001b[0m\n\u001b[0m\u001b[0;32m      5\u001b[0m \u001b[0mprint\u001b[0m\u001b[1;33m(\u001b[0m\u001b[0mclustalw_cline\u001b[0m\u001b[1;33m)\u001b[0m\u001b[1;33m\u001b[0m\u001b[1;33m\u001b[0m\u001b[0m\n",
      "\u001b[1;32m~\\anaconda3\\lib\\site-packages\\Bio\\Application\\__init__.py\u001b[0m in \u001b[0;36m__call__\u001b[1;34m(self, stdin, stdout, stderr, cwd, env)\u001b[0m\n\u001b[0;32m    572\u001b[0m \u001b[1;33m\u001b[0m\u001b[0m\n\u001b[0;32m    573\u001b[0m         \u001b[1;32mif\u001b[0m \u001b[0mreturn_code\u001b[0m\u001b[1;33m:\u001b[0m\u001b[1;33m\u001b[0m\u001b[1;33m\u001b[0m\u001b[0m\n\u001b[1;32m--> 574\u001b[1;33m             \u001b[1;32mraise\u001b[0m \u001b[0mApplicationError\u001b[0m\u001b[1;33m(\u001b[0m\u001b[0mreturn_code\u001b[0m\u001b[1;33m,\u001b[0m \u001b[0mstr\u001b[0m\u001b[1;33m(\u001b[0m\u001b[0mself\u001b[0m\u001b[1;33m)\u001b[0m\u001b[1;33m,\u001b[0m \u001b[0mstdout_str\u001b[0m\u001b[1;33m,\u001b[0m \u001b[0mstderr_str\u001b[0m\u001b[1;33m)\u001b[0m\u001b[1;33m\u001b[0m\u001b[1;33m\u001b[0m\u001b[0m\n\u001b[0m\u001b[0;32m    575\u001b[0m         \u001b[1;32mreturn\u001b[0m \u001b[0mstdout_str\u001b[0m\u001b[1;33m,\u001b[0m \u001b[0mstderr_str\u001b[0m\u001b[1;33m\u001b[0m\u001b[1;33m\u001b[0m\u001b[0m\n\u001b[0;32m    576\u001b[0m \u001b[1;33m\u001b[0m\u001b[0m\n",
      "\u001b[1;31mApplicationError\u001b[0m: Non-zero return code 3 from 'C:/Users/HP/Documents/GitHub/gbi6g01_2022l/ClustalW2/clustalw2.exe -infile=\"2021I_GBI6_2.7_Biopython/sequence (4).txt\"'"
     ]
    }
   ],
   "source": [
    "clustalw_exe = r\"C:/Users/HP/Documents/GitHub/gbi6g01_2022l/ClustalW2/clustalw2.exe\"\n",
    "clustalw_cline = ClustalwCommandline(clustalw_exe, infile = \"2021I_GBI6_2.7_Biopython/sequence (4).txt\")\n",
    "assert os.path.isfile(clustalw_exe), \"Clustal_W executable is missing or not found\"\n",
    "stdout, stderr = clustalw_cline()\n",
    "print(clustalw_cline)\n"
   ]
  },
  {
   "cell_type": "code",
   "execution_count": null,
   "id": "400852fc",
   "metadata": {},
   "outputs": [],
   "source": [
    "# Códigos\n",
    "from IPython.core.display import Image\n",
    "from Bio.Seq import Seq\n",
    "from Bio.SeqUtils import GC\n",
    "from reportlab.lib import colors\n",
    "from reportlab.lib.units import cm\n",
    "from Bio.Graphics import GenomeDiagram\n",
    "from Bio import SeqIO\n",
    "from Bio.SeqFeature import SeqFeature, FeatureLocation\n",
    "# Filogenia\n",
    "from Bio import Phylo\n",
    "from Bio.Phylo.TreeConstruction import DistanceCalculator\n",
    "from Bio.Phylo.TreeConstruction import DistanceTreeConstructor\n",
    "from Bio import AlignIO\n",
    "# Proteómica\n",
    "from Bio.PDB import *\n",
    "from Bio.SeqUtils.ProtParam import ProteinAnalysis\n",
    "from Bio.SeqUtils.ProtParam import ProtParamData\n",
    "import nglview as nv\n",
    "import ipywidgets\n",
    "import warnings\n",
    "warnings.filterwarnings('ignore')\n",
    "import Bio\n",
    "from Bio import Entrez\n",
    "from Bio import Entrez\n",
    "import re\n",
    "from Bio.Align.Applications import ClustalwCommandline\n",
    "import os\n",
    "import matplotlib\n",
    "import matplotlib.pyplot as plt"
   ]
  },
  {
   "cell_type": "code",
   "execution_count": null,
   "id": "94e8e4f3",
   "metadata": {},
   "outputs": [],
   "source": [
    "from Bio.Align.Applications import ClustalwCommandline\n",
    "import os"
   ]
  },
  {
   "cell_type": "code",
   "execution_count": null,
   "id": "c6ab060e",
   "metadata": {},
   "outputs": [],
   "source": [
    "# cargar data multiple y crear alineamientos\n",
    "clustalw_exe = r\"C:/Users/HP/Documents/GitHub/gbi6g01_2022l/ClustalW2/clustalw2.exe\")\n",
    "clustalw_cline = ClustalwCommandline(clustalw_exe, infile = \"2021I_GBI6_2.7_Biopython/nuccore_result.txt\"\n",
    "assert os.path.isfile(clustalw_exe), \"Clustal_W executable is missing or not found\"\n",
    "stdout, stderr = clustalw_cline()\n",
    "print(clustalw_cline)\n"
   ]
  },
  {
   "cell_type": "code",
   "execution_count": null,
   "id": "330d66b9",
   "metadata": {},
   "outputs": [],
   "source": [
    "pwd"
   ]
  },
  {
   "cell_type": "code",
   "execution_count": null,
   "id": "05a4edee",
   "metadata": {},
   "outputs": [],
   "source": [
    "# Generar Dendogram (Tree)\n",
    "from Bio import Phylo\n",
    "tree = Phylo.read(\"2021I_GBI6_2.7_Biopython/nuccore_result.txt \", \"newick\")\n",
    "Phylo.draw_ascii(tree)"
   ]
  },
  {
   "cell_type": "markdown",
   "id": "3db9b73d",
   "metadata": {},
   "source": [
    "# Ejercicio 6"
   ]
  },
  {
   "cell_type": "code",
   "execution_count": null,
   "id": "5ea1c895",
   "metadata": {},
   "outputs": [],
   "source": []
  }
 ],
 "metadata": {
  "kernelspec": {
   "display_name": "Python 3 (ipykernel)",
   "language": "python",
   "name": "python3"
  },
  "language_info": {
   "codemirror_mode": {
    "name": "ipython",
    "version": 3
   },
   "file_extension": ".py",
   "mimetype": "text/x-python",
   "name": "python",
   "nbconvert_exporter": "python",
   "pygments_lexer": "ipython3",
   "version": "3.9.7"
  }
 },
 "nbformat": 4,
 "nbformat_minor": 5
}
