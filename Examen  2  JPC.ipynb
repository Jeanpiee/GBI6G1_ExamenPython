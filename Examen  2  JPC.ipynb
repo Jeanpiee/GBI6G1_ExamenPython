{
 "cells": [
  {
   "cell_type": "markdown",
   "id": "8d73aa3b",
   "metadata": {},
   "source": [
    "<center><h1 style=\"color:orange\"> EXAMEN PARCIAL 2 PYTHON\n",
    "    \n",
    " <img src=\"https://www.ikiam.edu.ec/img/logo-ikiam-grey.png\" width=400 height=300 />\n",
    "\n",
    "# <center><h1 style=\"color:gray\">GBI6G1 - BIOINFORMÁTICA</h1></center>\n",
    "\n",
    " **Cerda Grefa, Jean-Pierre**\n",
    "    \n",
    " **03-08-2022**\n",
    "    \n",
    "\n",
    "| CARACTERISTICAS DEL EQUIPO | | |\n",
    "| --- | --- | --- |\n",
    "|Nombre del dispositivo                DESKTOP-ARATL58 |  |  |\n",
    "|Procesador                            Intel(R) Pentium(R) CPU N3700 @ 1.60GHz 1.60 GHz|  |  |   \n",
    "|Identificador de dispositivo          863752D5-95CC-4316-AF89-6EDA541E1338|  |  | \n",
    "|Id. del producto                      00330-80000-00000-AA932|  |  |     \n",
    "|Tipo de sistema Sistema operativo de 64 bits, procesador basado en x64|  |  | \n",
    "|Lápiz y entrada táctil La entrada táctil o manuscrita no está disponible para esta pantalla|  |  | \n",
    "    "
   ]
  },
  {
   "cell_type": "markdown",
   "id": "6463d842",
   "metadata": {},
   "source": [
    "# Ejercicio 1\n"
   ]
  },
  {
   "cell_type": "code",
   "execution_count": 40,
   "id": "d6f0f6bc",
   "metadata": {},
   "outputs": [],
   "source": [
    "from Bio import Entrez\n",
    "import re\n",
    "import csv\n",
    "import miningscience as msc"
   ]
  },
  {
   "cell_type": "code",
   "execution_count": 41,
   "id": "1b4444ac",
   "metadata": {},
   "outputs": [
    {
     "name": "stdout",
     "output_type": "stream",
     "text": [
      "Help on function download_pubmed in module miningscience:\n",
      "\n",
      "download_pubmed(keyword)\n",
      "    El siguiente comando permite buscar articulos en pubmed mediante palabras claves\n",
      "\n"
     ]
    }
   ],
   "source": [
    "\n",
    "help (msc.download_pubmed)\n"
   ]
  },
  {
   "cell_type": "markdown",
   "id": "654d3fdc",
   "metadata": {},
   "source": [
    "# Ejercicio 2"
   ]
  },
  {
   "cell_type": "code",
   "execution_count": 16,
   "id": "667641ac",
   "metadata": {},
   "outputs": [
    {
     "data": {
      "text/plain": [
       "'C:\\\\Users\\\\HP\\\\Documents\\\\GitHub\\\\gbi6g01_2022l'"
      ]
     },
     "execution_count": 16,
     "metadata": {},
     "output_type": "execute_result"
    }
   ],
   "source": [
    "pwd"
   ]
  },
  {
   "cell_type": "markdown",
   "id": "c1ecb318",
   "metadata": {},
   "source": [
    "#  Ejercicio 3"
   ]
  },
  {
   "cell_type": "markdown",
   "id": "08802caf",
   "metadata": {},
   "source": [
    "#  Ejercicio 4"
   ]
  },
  {
   "cell_type": "markdown",
   "id": "7012316a",
   "metadata": {},
   "source": [
    "# Ejercicio 5"
   ]
  },
  {
   "cell_type": "code",
   "execution_count": 54,
   "id": "400852fc",
   "metadata": {},
   "outputs": [
    {
     "data": {
      "application/vnd.jupyter.widget-view+json": {
       "model_id": "955eeb8c1fed4e3699610199dc3ad5e9",
       "version_major": 2,
       "version_minor": 0
      },
      "text/plain": []
     },
     "metadata": {},
     "output_type": "display_data"
    }
   ],
   "source": [
    "# Códigos\n",
    "from IPython.core.display import Image\n",
    "from Bio.Seq import Seq\n",
    "from Bio.SeqUtils import GC\n",
    "from reportlab.lib import colors\n",
    "from reportlab.lib.units import cm\n",
    "from Bio.Graphics import GenomeDiagram\n",
    "from Bio import SeqIO\n",
    "from Bio.SeqFeature import SeqFeature, FeatureLocation\n",
    "# Filogenia\n",
    "from Bio import Phylo\n",
    "from Bio.Phylo.TreeConstruction import DistanceCalculator\n",
    "from Bio.Phylo.TreeConstruction import DistanceTreeConstructor\n",
    "from Bio import AlignIO\n",
    "# Proteómica\n",
    "from Bio.PDB import *\n",
    "from Bio.SeqUtils.ProtParam import ProteinAnalysis\n",
    "from Bio.SeqUtils.ProtParam import ProtParamData\n",
    "import nglview as nv\n",
    "import ipywidgets\n",
    "import warnings\n",
    "warnings.filterwarnings('ignore')\n",
    "import Bio\n",
    "from Bio import Entrez\n",
    "from Bio import Entrez\n",
    "import re\n",
    "from Bio.Align.Applications import ClustalwCommandline\n",
    "import os\n",
    "import matplotlib\n",
    "import matplotlib.pyplot as plt"
   ]
  },
  {
   "cell_type": "code",
   "execution_count": 32,
   "id": "94e8e4f3",
   "metadata": {},
   "outputs": [],
   "source": [
    "from Bio.Align.Applications import ClustalwCommandline\n",
    "import os"
   ]
  },
  {
   "cell_type": "code",
   "execution_count": 1,
   "id": "c6ab060e",
   "metadata": {},
   "outputs": [
    {
     "ename": "SyntaxError",
     "evalue": "unmatched ')' (Temp/ipykernel_8324/830946995.py, line 2)",
     "output_type": "error",
     "traceback": [
      "\u001b[1;36m  File \u001b[1;32m\"C:\\Users\\HP\\AppData\\Local\\Temp/ipykernel_8324/830946995.py\"\u001b[1;36m, line \u001b[1;32m2\u001b[0m\n\u001b[1;33m    clustalw_exe = r\"C:/Users/HP/Documents/GitHub/gbi6g01_2022l/ClustalW2/clustalw2.exe\")\u001b[0m\n\u001b[1;37m                                                                                        ^\u001b[0m\n\u001b[1;31mSyntaxError\u001b[0m\u001b[1;31m:\u001b[0m unmatched ')'\n"
     ]
    }
   ],
   "source": [
    "# cargar data multiple y crear alineamientos\n",
    "clustalw_exe = r\"C:/Users/HP/Documents/GitHub/gbi6g01_2022l/ClustalW2/clustalw2.exe\")\n",
    "clustalw_cline = ClustalwCommandline(clustalw_exe, infile = \"2021I_GBI6_2.7_Biopython/nuccore_result.txt\"\n",
    "assert os.path.isfile(clustalw_exe), \"Clustal_W executable is missing or not found\"\n",
    "stdout, stderr = clustalw_cline()\n",
    "print(clustalw_cline)\n"
   ]
  },
  {
   "cell_type": "code",
   "execution_count": 2,
   "id": "330d66b9",
   "metadata": {},
   "outputs": [
    {
     "data": {
      "text/plain": [
       "'C:\\\\Users\\\\HP\\\\Documents\\\\GitHub\\\\gbi6g01_2022l'"
      ]
     },
     "execution_count": 2,
     "metadata": {},
     "output_type": "execute_result"
    }
   ],
   "source": [
    "pwd"
   ]
  },
  {
   "cell_type": "code",
   "execution_count": 3,
   "id": "05a4edee",
   "metadata": {},
   "outputs": [
    {
     "name": "stdout",
     "output_type": "stream",
     "text": [
      " , Contig0001\n",
      " |\n",
      " | sequence1\n",
      " |\n",
      " | 489\n",
      " |\n",
      " |__ assembly\n",
      " |\n",
      " | UPC14\n",
      " |\n",
      " | 813\n",
      " |\n",
      " |______________ assembly\n",
      " |\n",
      " | PSV5\n",
      " |\n",
      " | 233\n",
      " |\n",
      " |______________ M-1\n",
      " |\n",
      " | genome4\n",
      " |\n",
      " | 589\n",
      " |\n",
      " |______ assembly\n",
      " |\n",
      " | Tan6114\n",
      " |\n",
      " | 963\n",
      " |\n",
      " |______________ AM1\n",
      " |\n",
      " | genome5\n",
      " |\n",
      " | 511\n",
      " |\n",
      " | chromosome\n",
      " |\n",
      " | sequence5\n",
      " |\n",
      " | 888\n",
      " |\n",
      " | assembly\n",
      " |\n",
      " | chromosome\n",
      " |\n",
      " | 722\n",
      " |\n",
      "_|_______________ DNA\n",
      " |\n",
      " | genome3\n",
      " |\n",
      " | 544\n",
      " |\n",
      " |___ 191\n",
      " |\n",
      " | I6\n",
      " |\n",
      " | 012\n",
      " |\n",
      " |______________________________________________________________ 454\n",
      " |\n",
      " | genome2\n",
      " |\n",
      " | 755\n",
      " |\n",
      " |______________________ genome\n",
      " |\n",
      " | 1054762\n",
      " |\n",
      " | 619\n",
      " |\n",
      " |___________ genome2\n",
      " |\n",
      " | 566\n",
      " |\n",
      " |________________ cDNA\n",
      " |\n",
      " | library\n",
      " |\n",
      " | SUBUNIT\n",
      " |\n",
      " | FORM\n",
      " |\n",
      " , 1.2.4.1\n",
      " |\n",
      " | I\n",
      " |\n",
      " | cds\n",
      " |\n",
      " | subunit\n",
      " |\n",
      " | form\n",
      " |\n",
      " , 1.2.4.1\n",
      " |\n",
      " | GI\n",
      "\n"
     ]
    }
   ],
   "source": [
    "# Generar Dendogram (Tree)\n",
    "from Bio import Phylo\n",
    "tree = Phylo.read(\"2021I_GBI6_2.7_Biopython/nuccore_result.txt \", \"newick\")\n",
    "Phylo.draw_ascii(tree)"
   ]
  },
  {
   "cell_type": "markdown",
   "id": "3db9b73d",
   "metadata": {},
   "source": [
    "# Ejercicio 6"
   ]
  },
  {
   "cell_type": "code",
   "execution_count": null,
   "id": "5ea1c895",
   "metadata": {},
   "outputs": [],
   "source": []
  },
  {
   "cell_type": "code",
   "execution_count": null,
   "id": "3eafb6f2",
   "metadata": {},
   "outputs": [],
   "source": []
  },
  {
   "cell_type": "code",
   "execution_count": null,
   "id": "abddd3ae",
   "metadata": {},
   "outputs": [],
   "source": []
  },
  {
   "cell_type": "code",
   "execution_count": null,
   "id": "13e97a40",
   "metadata": {},
   "outputs": [],
   "source": []
  },
  {
   "cell_type": "code",
   "execution_count": null,
   "id": "5214e7e5",
   "metadata": {},
   "outputs": [],
   "source": []
  },
  {
   "cell_type": "code",
   "execution_count": null,
   "id": "a306ad36",
   "metadata": {},
   "outputs": [],
   "source": []
  },
  {
   "cell_type": "code",
   "execution_count": null,
   "id": "9916d93b",
   "metadata": {},
   "outputs": [],
   "source": []
  },
  {
   "cell_type": "code",
   "execution_count": null,
   "id": "8d6f7346",
   "metadata": {},
   "outputs": [],
   "source": []
  }
 ],
 "metadata": {
  "kernelspec": {
   "display_name": "Python 3 (ipykernel)",
   "language": "python",
   "name": "python3"
  },
  "language_info": {
   "codemirror_mode": {
    "name": "ipython",
    "version": 3
   },
   "file_extension": ".py",
   "mimetype": "text/x-python",
   "name": "python",
   "nbconvert_exporter": "python",
   "pygments_lexer": "ipython3",
   "version": "3.9.7"
  }
 },
 "nbformat": 4,
 "nbformat_minor": 5
}
